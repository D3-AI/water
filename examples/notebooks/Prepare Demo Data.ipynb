{
 "cells": [
  {
   "cell_type": "code",
   "execution_count": 1,
   "metadata": {},
   "outputs": [],
   "source": [
    "import pandas as pd"
   ]
  },
  {
   "cell_type": "code",
   "execution_count": 5,
   "metadata": {},
   "outputs": [
    {
     "name": "stderr",
     "output_type": "stream",
     "text": [
      "Using TensorFlow backend.\n"
     ]
    }
   ],
   "source": [
    "from mit_d3m import load_dataset"
   ]
  },
  {
   "cell_type": "code",
   "execution_count": 6,
   "metadata": {},
   "outputs": [],
   "source": [
    "dataset = 'LL1_ItalyPowerDemand'"
   ]
  },
  {
   "cell_type": "code",
   "execution_count": 7,
   "metadata": {},
   "outputs": [
    {
     "name": "stdout",
     "output_type": "stream",
     "text": [
      "Downloading dataset LL1_ItalyPowerDemand\n",
      "Getting file datasets/LL1_ItalyPowerDemand.tar.gz from S3 bucket d3m-data-dai\n",
      "Extracting data/LL1_ItalyPowerDemand.tar.gz\n",
      "dict_keys(['learningData', 'timeseries'])\n"
     ]
    },
    {
     "data": {
      "text/html": [
       "<div>\n",
       "<style scoped>\n",
       "    .dataframe tbody tr th:only-of-type {\n",
       "        vertical-align: middle;\n",
       "    }\n",
       "\n",
       "    .dataframe tbody tr th {\n",
       "        vertical-align: top;\n",
       "    }\n",
       "\n",
       "    .dataframe thead th {\n",
       "        text-align: right;\n",
       "    }\n",
       "</style>\n",
       "<table border=\"1\" class=\"dataframe\">\n",
       "  <thead>\n",
       "    <tr style=\"text-align: right;\">\n",
       "      <th></th>\n",
       "      <th>timeseries_file</th>\n",
       "    </tr>\n",
       "    <tr>\n",
       "      <th>d3mIndex</th>\n",
       "      <th></th>\n",
       "    </tr>\n",
       "  </thead>\n",
       "  <tbody>\n",
       "    <tr>\n",
       "      <th>0</th>\n",
       "      <td>0000_train_ts.csv</td>\n",
       "    </tr>\n",
       "    <tr>\n",
       "      <th>1</th>\n",
       "      <td>0001_train_ts.csv</td>\n",
       "    </tr>\n",
       "    <tr>\n",
       "      <th>2</th>\n",
       "      <td>0002_train_ts.csv</td>\n",
       "    </tr>\n",
       "    <tr>\n",
       "      <th>3</th>\n",
       "      <td>0003_train_ts.csv</td>\n",
       "    </tr>\n",
       "    <tr>\n",
       "      <th>4</th>\n",
       "      <td>0004_train_ts.csv</td>\n",
       "    </tr>\n",
       "  </tbody>\n",
       "</table>\n",
       "</div>"
      ],
      "text/plain": [
       "            timeseries_file\n",
       "d3mIndex                   \n",
       "0         0000_train_ts.csv\n",
       "1         0001_train_ts.csv\n",
       "2         0002_train_ts.csv\n",
       "3         0003_train_ts.csv\n",
       "4         0004_train_ts.csv"
      ]
     },
     "execution_count": 7,
     "metadata": {},
     "output_type": "execute_result"
    }
   ],
   "source": [
    "ds = load_dataset(dataset)\n",
    "print(ds.context['entities'].keys())\n",
    "ds.X.head(5)"
   ]
  },
  {
   "cell_type": "code",
   "execution_count": 8,
   "metadata": {},
   "outputs": [
    {
     "data": {
      "text/html": [
       "<div>\n",
       "<style scoped>\n",
       "    .dataframe tbody tr th:only-of-type {\n",
       "        vertical-align: middle;\n",
       "    }\n",
       "\n",
       "    .dataframe tbody tr th {\n",
       "        vertical-align: top;\n",
       "    }\n",
       "\n",
       "    .dataframe thead th {\n",
       "        text-align: right;\n",
       "    }\n",
       "</style>\n",
       "<table border=\"1\" class=\"dataframe\">\n",
       "  <thead>\n",
       "    <tr style=\"text-align: right;\">\n",
       "      <th></th>\n",
       "      <th>timeseries_id</th>\n",
       "      <th>time</th>\n",
       "      <th>value</th>\n",
       "      <th>d3mIndex</th>\n",
       "    </tr>\n",
       "  </thead>\n",
       "  <tbody>\n",
       "    <tr>\n",
       "      <th>0</th>\n",
       "      <td>0</td>\n",
       "      <td>0</td>\n",
       "      <td>-0.71052</td>\n",
       "      <td>0</td>\n",
       "    </tr>\n",
       "    <tr>\n",
       "      <th>1</th>\n",
       "      <td>1</td>\n",
       "      <td>1</td>\n",
       "      <td>-1.18330</td>\n",
       "      <td>0</td>\n",
       "    </tr>\n",
       "    <tr>\n",
       "      <th>2</th>\n",
       "      <td>2</td>\n",
       "      <td>2</td>\n",
       "      <td>-1.37240</td>\n",
       "      <td>0</td>\n",
       "    </tr>\n",
       "    <tr>\n",
       "      <th>3</th>\n",
       "      <td>3</td>\n",
       "      <td>3</td>\n",
       "      <td>-1.59310</td>\n",
       "      <td>0</td>\n",
       "    </tr>\n",
       "    <tr>\n",
       "      <th>4</th>\n",
       "      <td>4</td>\n",
       "      <td>4</td>\n",
       "      <td>-1.46700</td>\n",
       "      <td>0</td>\n",
       "    </tr>\n",
       "  </tbody>\n",
       "</table>\n",
       "</div>"
      ],
      "text/plain": [
       "   timeseries_id  time    value  d3mIndex\n",
       "0              0     0 -0.71052         0\n",
       "1              1     1 -1.18330         0\n",
       "2              2     2 -1.37240         0\n",
       "3              3     3 -1.59310         0\n",
       "4              4     4 -1.46700         0"
      ]
     },
     "execution_count": 8,
     "metadata": {},
     "output_type": "execute_result"
    }
   ],
   "source": [
    "ds.context['entities']['timeseries'][0].head(5)"
   ]
  },
  {
   "cell_type": "code",
   "execution_count": 55,
   "metadata": {},
   "outputs": [],
   "source": [
    "from datetime import datetime, timedelta\n",
    "\n",
    "start = datetime(2010, 1, 1)\n",
    "cutoff = datetime(2010, 1, 25)"
   ]
  },
  {
   "cell_type": "code",
   "execution_count": 228,
   "metadata": {},
   "outputs": [
    {
     "name": "stdout",
     "output_type": "stream",
     "text": [
      "(67, 4)\n"
     ]
    },
    {
     "data": {
      "text/html": [
       "<div>\n",
       "<style scoped>\n",
       "    .dataframe tbody tr th:only-of-type {\n",
       "        vertical-align: middle;\n",
       "    }\n",
       "\n",
       "    .dataframe tbody tr th {\n",
       "        vertical-align: top;\n",
       "    }\n",
       "\n",
       "    .dataframe thead th {\n",
       "        text-align: right;\n",
       "    }\n",
       "</style>\n",
       "<table border=\"1\" class=\"dataframe\">\n",
       "  <thead>\n",
       "    <tr style=\"text-align: right;\">\n",
       "      <th></th>\n",
       "      <th>demand_id</th>\n",
       "      <th>timeseries_id</th>\n",
       "      <th>cutoff_time</th>\n",
       "      <th>target</th>\n",
       "    </tr>\n",
       "  </thead>\n",
       "  <tbody>\n",
       "    <tr>\n",
       "      <th>0</th>\n",
       "      <td>0</td>\n",
       "      <td>0</td>\n",
       "      <td>2010-01-25</td>\n",
       "      <td>1</td>\n",
       "    </tr>\n",
       "    <tr>\n",
       "      <th>1</th>\n",
       "      <td>1</td>\n",
       "      <td>1</td>\n",
       "      <td>2010-01-25</td>\n",
       "      <td>1</td>\n",
       "    </tr>\n",
       "    <tr>\n",
       "      <th>2</th>\n",
       "      <td>2</td>\n",
       "      <td>2</td>\n",
       "      <td>2010-01-25</td>\n",
       "      <td>2</td>\n",
       "    </tr>\n",
       "    <tr>\n",
       "      <th>3</th>\n",
       "      <td>3</td>\n",
       "      <td>3</td>\n",
       "      <td>2010-01-25</td>\n",
       "      <td>2</td>\n",
       "    </tr>\n",
       "    <tr>\n",
       "      <th>4</th>\n",
       "      <td>4</td>\n",
       "      <td>4</td>\n",
       "      <td>2010-01-25</td>\n",
       "      <td>1</td>\n",
       "    </tr>\n",
       "  </tbody>\n",
       "</table>\n",
       "</div>"
      ],
      "text/plain": [
       "   demand_id  timeseries_id cutoff_time  target\n",
       "0          0              0  2010-01-25       1\n",
       "1          1              1  2010-01-25       1\n",
       "2          2              2  2010-01-25       2\n",
       "3          3              3  2010-01-25       2\n",
       "4          4              4  2010-01-25       1"
      ]
     },
     "execution_count": 228,
     "metadata": {},
     "output_type": "execute_result"
    }
   ],
   "source": [
    "#train = ds.context['entities']['learningData'][0].copy()\n",
    "X = ds.X.copy()\n",
    "X['target'] = ds.y.copy()\n",
    "\n",
    "X.index.name = 'timeseries_id'\n",
    "X.reset_index(inplace=True, drop=False)\n",
    "\n",
    "X.index.name = 'demand_id'\n",
    "X.reset_index(inplace=True, drop=False)\n",
    "\n",
    "X['cutoff_time'] = cutoff\n",
    "X.reset_index(drop=True, inplace=True)\n",
    "\n",
    "demand = X[['demand_id', 'timeseries_id', 'cutoff_time', 'target']].copy()\n",
    "\n",
    "print(demand.shape)\n",
    "demand.head()"
   ]
  },
  {
   "cell_type": "code",
   "execution_count": 229,
   "metadata": {},
   "outputs": [
    {
     "data": {
      "text/html": [
       "<div>\n",
       "<style scoped>\n",
       "    .dataframe tbody tr th:only-of-type {\n",
       "        vertical-align: middle;\n",
       "    }\n",
       "\n",
       "    .dataframe tbody tr th {\n",
       "        vertical-align: top;\n",
       "    }\n",
       "\n",
       "    .dataframe thead th {\n",
       "        text-align: right;\n",
       "    }\n",
       "</style>\n",
       "<table border=\"1\" class=\"dataframe\">\n",
       "  <thead>\n",
       "    <tr style=\"text-align: right;\">\n",
       "      <th></th>\n",
       "      <th>timeseries_id</th>\n",
       "      <th>timeseries_file</th>\n",
       "    </tr>\n",
       "  </thead>\n",
       "  <tbody>\n",
       "    <tr>\n",
       "      <th>0</th>\n",
       "      <td>0</td>\n",
       "      <td>0000_train_ts.csv</td>\n",
       "    </tr>\n",
       "    <tr>\n",
       "      <th>1</th>\n",
       "      <td>1</td>\n",
       "      <td>0001_train_ts.csv</td>\n",
       "    </tr>\n",
       "    <tr>\n",
       "      <th>2</th>\n",
       "      <td>2</td>\n",
       "      <td>0002_train_ts.csv</td>\n",
       "    </tr>\n",
       "    <tr>\n",
       "      <th>3</th>\n",
       "      <td>3</td>\n",
       "      <td>0003_train_ts.csv</td>\n",
       "    </tr>\n",
       "    <tr>\n",
       "      <th>4</th>\n",
       "      <td>4</td>\n",
       "      <td>0004_train_ts.csv</td>\n",
       "    </tr>\n",
       "  </tbody>\n",
       "</table>\n",
       "</div>"
      ],
      "text/plain": [
       "   timeseries_id    timeseries_file\n",
       "0              0  0000_train_ts.csv\n",
       "1              1  0001_train_ts.csv\n",
       "2              2  0002_train_ts.csv\n",
       "3              3  0003_train_ts.csv\n",
       "4              4  0004_train_ts.csv"
      ]
     },
     "execution_count": 229,
     "metadata": {},
     "output_type": "execute_result"
    }
   ],
   "source": [
    "timeseries = X[['timeseries_id', 'timeseries_file']].copy()\n",
    "timeseries.head()"
   ]
  },
  {
   "cell_type": "code",
   "execution_count": 230,
   "metadata": {},
   "outputs": [
    {
     "name": "stdout",
     "output_type": "stream",
     "text": [
      "(1608, 4)\n"
     ]
    },
    {
     "data": {
      "text/html": [
       "<div>\n",
       "<style scoped>\n",
       "    .dataframe tbody tr th:only-of-type {\n",
       "        vertical-align: middle;\n",
       "    }\n",
       "\n",
       "    .dataframe tbody tr th {\n",
       "        vertical-align: top;\n",
       "    }\n",
       "\n",
       "    .dataframe thead th {\n",
       "        text-align: right;\n",
       "    }\n",
       "</style>\n",
       "<table border=\"1\" class=\"dataframe\">\n",
       "  <thead>\n",
       "    <tr style=\"text-align: right;\">\n",
       "      <th></th>\n",
       "      <th>data_id</th>\n",
       "      <th>timeseries_id</th>\n",
       "      <th>timestamp</th>\n",
       "      <th>value</th>\n",
       "    </tr>\n",
       "  </thead>\n",
       "  <tbody>\n",
       "    <tr>\n",
       "      <th>0</th>\n",
       "      <td>0</td>\n",
       "      <td>0</td>\n",
       "      <td>2010-01-01</td>\n",
       "      <td>-0.71052</td>\n",
       "    </tr>\n",
       "    <tr>\n",
       "      <th>1</th>\n",
       "      <td>1</td>\n",
       "      <td>0</td>\n",
       "      <td>2010-01-02</td>\n",
       "      <td>-1.18330</td>\n",
       "    </tr>\n",
       "    <tr>\n",
       "      <th>2</th>\n",
       "      <td>2</td>\n",
       "      <td>0</td>\n",
       "      <td>2010-01-03</td>\n",
       "      <td>-1.37240</td>\n",
       "    </tr>\n",
       "    <tr>\n",
       "      <th>3</th>\n",
       "      <td>3</td>\n",
       "      <td>0</td>\n",
       "      <td>2010-01-04</td>\n",
       "      <td>-1.59310</td>\n",
       "    </tr>\n",
       "    <tr>\n",
       "      <th>4</th>\n",
       "      <td>4</td>\n",
       "      <td>0</td>\n",
       "      <td>2010-01-05</td>\n",
       "      <td>-1.46700</td>\n",
       "    </tr>\n",
       "  </tbody>\n",
       "</table>\n",
       "</div>"
      ],
      "text/plain": [
       "   data_id  timeseries_id  timestamp    value\n",
       "0        0              0 2010-01-01 -0.71052\n",
       "1        1              0 2010-01-02 -1.18330\n",
       "2        2              0 2010-01-03 -1.37240\n",
       "3        3              0 2010-01-04 -1.59310\n",
       "4        4              0 2010-01-05 -1.46700"
      ]
     },
     "execution_count": 230,
     "metadata": {},
     "output_type": "execute_result"
    }
   ],
   "source": [
    "data = ds.context['entities']['timeseries'][0].copy()\n",
    "\n",
    "columns = {\n",
    "    'time': 'timestamp',\n",
    "    'timeseries_id': 'data_id',\n",
    "    'd3mIndex': 'timeseries_id'\n",
    "}\n",
    "data.rename(columns=columns, inplace=True)\n",
    "data['timestamp'] = data.timestamp.apply(lambda d: start + timedelta(days=d))\n",
    "\n",
    "data = data[['data_id', 'timeseries_id', 'timestamp', 'value']]\n",
    "\n",
    "print(data.shape)\n",
    "data.head()"
   ]
  },
  {
   "cell_type": "code",
   "execution_count": 231,
   "metadata": {},
   "outputs": [],
   "source": [
    "demand.to_csv('../datasets/ItalyPowerDemand/demand.csv', index=False)\n",
    "timeseries.to_csv('.../datasets/ItalyPowerDemand/timeseries.csv', index=False)\n",
    "data.to_csv('../datasets/ItalyPowerDemand/data.csv', index=False)"
   ]
  },
  {
   "cell_type": "code",
   "execution_count": 214,
   "metadata": {},
   "outputs": [],
   "source": [
    "meta = {\n",
    "    \"name\": \"ItalyPowerDemand\",\n",
    "    \"tables\": [\n",
    "        {\n",
    "            \"path\": \"timeseries.csv\",\n",
    "            \"name\": \"timeseries\",\n",
    "            \"headers\": True,\n",
    "            \"fields\": [\n",
    "                {\n",
    "                    \"name\": \"timeseries_id\",\n",
    "                    \"type\": \"id\",\n",
    "                    \"subtype\": \"primary\"\n",
    "                },\n",
    "                {\n",
    "                    \"name\": \"timeseries_file\",\n",
    "                    \"type\": \"text\"\n",
    "                }\n",
    "            ],\n",
    "            \"primary_key\": \"timeseries_id\"\n",
    "        },\n",
    "        {\n",
    "            \"path\": \"demand.csv\",\n",
    "            \"name\": \"demand\",\n",
    "            \"headers\": True,\n",
    "            \"fields\": [\n",
    "                {\n",
    "                    \"name\": \"demand_id\",\n",
    "                    \"type\": \"id\",\n",
    "                    \"subtype\": \"primary\"\n",
    "                },\n",
    "                {\n",
    "                    \"name\": \"timeseries_id\",\n",
    "                    \"type\": \"id\",\n",
    "                    \"subtype\": \"foreign\",\n",
    "                    \"ref\": {\n",
    "                        \"table\": \"timeseries\",\n",
    "                        \"field\": \"timeseries_id\"\n",
    "                    }\n",
    "                },\n",
    "                {\n",
    "                    \"name\": \"cutoff_time\",\n",
    "                    \"type\": \"datetime\",\n",
    "                    \"subtype\": \"time_index\",\n",
    "                    \"properties\": {\n",
    "                        \"format\": \"%Y-%m-%d\"\n",
    "                    }\n",
    "                },\n",
    "                {\n",
    "                    \"name\": \"target\",\n",
    "                    \"type\": \"categorical\",\n",
    "                    \"subtype\": \"categorical\"\n",
    "                }\n",
    "            ],\n",
    "            \"primary_key\": \"demand_id\"\n",
    "        },\n",
    "        {\n",
    "            \"path\": \"data.csv\",\n",
    "            \"name\": \"data\",\n",
    "            \"headers\": True,\n",
    "            \"fields\": [\n",
    "                {\n",
    "                    \"name\": \"data_id\",\n",
    "                    \"type\": \"id\",\n",
    "                    \"subtype\": \"primary\"\n",
    "                },\n",
    "                {\n",
    "                    \"name\": \"timeseries_id\",\n",
    "                    \"type\": \"id\",\n",
    "                    \"subtype\": \"foreign\",\n",
    "                    \"ref\": {\n",
    "                        \"table\": \"timeseries\",\n",
    "                        \"field\": \"timeseries_id\"\n",
    "                    }\n",
    "                },\n",
    "                {\n",
    "                    \"name\": \"timestamp\",\n",
    "                    \"type\": \"datetime\",\n",
    "                    \"subtype\": \"time_index\",\n",
    "                    \"properties\": {\n",
    "                        \"format\": \"%Y-%m-%d\"\n",
    "                    }\n",
    "                },\n",
    "                {\n",
    "                    \"name\": \"value\",\n",
    "                    \"type\": \"number\",\n",
    "                    \"subtype\": \"float\"\n",
    "                }\n",
    "            ],\n",
    "            \"primary_key\": \"data_id\"\n",
    "        }\n",
    "    ]\n",
    "}"
   ]
  },
  {
   "cell_type": "code",
   "execution_count": 215,
   "metadata": {},
   "outputs": [],
   "source": [
    "with open('../datasets/ItalyPowerDemand/metadata.json', 'w') as f:\n",
    "    json.dump(meta, f, indent=4)"
   ]
  },
  {
   "cell_type": "code",
   "execution_count": 263,
   "metadata": {},
   "outputs": [],
   "source": [
    "from water.loader import TimeSeriesLoader\n",
    "\n",
    "loader = TimeSeriesLoader('dataset', 'demand', 'target')"
   ]
  },
  {
   "cell_type": "code",
   "execution_count": 264,
   "metadata": {},
   "outputs": [],
   "source": [
    "X, y, data = loader.load()"
   ]
  },
  {
   "cell_type": "code",
   "execution_count": 265,
   "metadata": {},
   "outputs": [
    {
     "data": {
      "text/html": [
       "<div>\n",
       "<style scoped>\n",
       "    .dataframe tbody tr th:only-of-type {\n",
       "        vertical-align: middle;\n",
       "    }\n",
       "\n",
       "    .dataframe tbody tr th {\n",
       "        vertical-align: top;\n",
       "    }\n",
       "\n",
       "    .dataframe thead th {\n",
       "        text-align: right;\n",
       "    }\n",
       "</style>\n",
       "<table border=\"1\" class=\"dataframe\">\n",
       "  <thead>\n",
       "    <tr style=\"text-align: right;\">\n",
       "      <th></th>\n",
       "      <th>demand_id</th>\n",
       "      <th>timeseries_id</th>\n",
       "      <th>cutoff_time</th>\n",
       "    </tr>\n",
       "  </thead>\n",
       "  <tbody>\n",
       "    <tr>\n",
       "      <th>0</th>\n",
       "      <td>0</td>\n",
       "      <td>0</td>\n",
       "      <td>2010-01-25</td>\n",
       "    </tr>\n",
       "    <tr>\n",
       "      <th>1</th>\n",
       "      <td>1</td>\n",
       "      <td>1</td>\n",
       "      <td>2010-01-25</td>\n",
       "    </tr>\n",
       "    <tr>\n",
       "      <th>2</th>\n",
       "      <td>2</td>\n",
       "      <td>2</td>\n",
       "      <td>2010-01-25</td>\n",
       "    </tr>\n",
       "    <tr>\n",
       "      <th>3</th>\n",
       "      <td>3</td>\n",
       "      <td>3</td>\n",
       "      <td>2010-01-25</td>\n",
       "    </tr>\n",
       "    <tr>\n",
       "      <th>4</th>\n",
       "      <td>4</td>\n",
       "      <td>4</td>\n",
       "      <td>2010-01-25</td>\n",
       "    </tr>\n",
       "  </tbody>\n",
       "</table>\n",
       "</div>"
      ],
      "text/plain": [
       "   demand_id  timeseries_id cutoff_time\n",
       "0          0              0  2010-01-25\n",
       "1          1              1  2010-01-25\n",
       "2          2              2  2010-01-25\n",
       "3          3              3  2010-01-25\n",
       "4          4              4  2010-01-25"
      ]
     },
     "execution_count": 265,
     "metadata": {},
     "output_type": "execute_result"
    }
   ],
   "source": [
    "X.head(5)"
   ]
  },
  {
   "cell_type": "code",
   "execution_count": 266,
   "metadata": {},
   "outputs": [
    {
     "data": {
      "text/plain": [
       "0    1\n",
       "1    1\n",
       "2    2\n",
       "3    2\n",
       "4    1\n",
       "Name: target, dtype: int64"
      ]
     },
     "execution_count": 266,
     "metadata": {},
     "output_type": "execute_result"
    }
   ],
   "source": [
    "y.head(5)"
   ]
  },
  {
   "cell_type": "code",
   "execution_count": 267,
   "metadata": {},
   "outputs": [
    {
     "data": {
      "text/plain": [
       "dict_keys(['entities', 'relationships', 'target_entity'])"
      ]
     },
     "execution_count": 267,
     "metadata": {},
     "output_type": "execute_result"
    }
   ],
   "source": [
    "data.keys()"
   ]
  },
  {
   "cell_type": "code",
   "execution_count": 268,
   "metadata": {},
   "outputs": [
    {
     "data": {
      "text/html": [
       "<div>\n",
       "<style scoped>\n",
       "    .dataframe tbody tr th:only-of-type {\n",
       "        vertical-align: middle;\n",
       "    }\n",
       "\n",
       "    .dataframe tbody tr th {\n",
       "        vertical-align: top;\n",
       "    }\n",
       "\n",
       "    .dataframe thead th {\n",
       "        text-align: right;\n",
       "    }\n",
       "</style>\n",
       "<table border=\"1\" class=\"dataframe\">\n",
       "  <thead>\n",
       "    <tr style=\"text-align: right;\">\n",
       "      <th></th>\n",
       "      <th>demand_id</th>\n",
       "      <th>timeseries_id</th>\n",
       "      <th>cutoff_time</th>\n",
       "    </tr>\n",
       "  </thead>\n",
       "  <tbody>\n",
       "    <tr>\n",
       "      <th>0</th>\n",
       "      <td>0</td>\n",
       "      <td>0</td>\n",
       "      <td>2010-01-25</td>\n",
       "    </tr>\n",
       "    <tr>\n",
       "      <th>1</th>\n",
       "      <td>1</td>\n",
       "      <td>1</td>\n",
       "      <td>2010-01-25</td>\n",
       "    </tr>\n",
       "    <tr>\n",
       "      <th>2</th>\n",
       "      <td>2</td>\n",
       "      <td>2</td>\n",
       "      <td>2010-01-25</td>\n",
       "    </tr>\n",
       "    <tr>\n",
       "      <th>3</th>\n",
       "      <td>3</td>\n",
       "      <td>3</td>\n",
       "      <td>2010-01-25</td>\n",
       "    </tr>\n",
       "    <tr>\n",
       "      <th>4</th>\n",
       "      <td>4</td>\n",
       "      <td>4</td>\n",
       "      <td>2010-01-25</td>\n",
       "    </tr>\n",
       "  </tbody>\n",
       "</table>\n",
       "</div>"
      ],
      "text/plain": [
       "   demand_id  timeseries_id cutoff_time\n",
       "0          0              0  2010-01-25\n",
       "1          1              1  2010-01-25\n",
       "2          2              2  2010-01-25\n",
       "3          3              3  2010-01-25\n",
       "4          4              4  2010-01-25"
      ]
     },
     "execution_count": 268,
     "metadata": {},
     "output_type": "execute_result"
    }
   ],
   "source": [
    "data['entities']['demand'][0].head()"
   ]
  },
  {
   "cell_type": "code",
   "execution_count": 269,
   "metadata": {},
   "outputs": [
    {
     "data": {
      "text/plain": [
       "[('timeseries', 'timeseries_id', 'demand', 'demand_id'),\n",
       " ('timeseries', 'timeseries_id', 'data', 'data_id')]"
      ]
     },
     "execution_count": 269,
     "metadata": {},
     "output_type": "execute_result"
    }
   ],
   "source": [
    "data['relationships']"
   ]
  }
 ],
 "metadata": {
  "kernelspec": {
   "display_name": "Python 3",
   "language": "python",
   "name": "python3"
  },
  "language_info": {
   "codemirror_mode": {
    "name": "ipython",
    "version": 3
   },
   "file_extension": ".py",
   "mimetype": "text/x-python",
   "name": "python",
   "nbconvert_exporter": "python",
   "pygments_lexer": "ipython3",
   "version": "3.6.7"
  }
 },
 "nbformat": 4,
 "nbformat_minor": 2
}
