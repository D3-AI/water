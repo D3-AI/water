{
 "cells": [
  {
   "cell_type": "code",
   "execution_count": 1,
   "metadata": {},
   "outputs": [],
   "source": [
    "import warnings\n",
    "\n",
    "from water.db import MongoDB\n",
    "from water.estimators import TimeSeriesClassifier\n",
    "from water.loader import TimeSeriesLoader\n",
    "from water.utils import logging_setup\n",
    "\n",
    "warnings.filterwarnings('ignore', category=DeprecationWarning)\n",
    "\n",
    "logging_setup(1)"
   ]
  },
  {
   "cell_type": "code",
   "execution_count": 2,
   "metadata": {},
   "outputs": [],
   "source": [
    "loader = TimeSeriesLoader('../datasets/ItalyPowerDemand', 'demand', 'target')"
   ]
  },
  {
   "cell_type": "code",
   "execution_count": 3,
   "metadata": {},
   "outputs": [],
   "source": [
    "X, y, data = loader.load()"
   ]
  },
  {
   "cell_type": "code",
   "execution_count": 4,
   "metadata": {},
   "outputs": [
    {
     "name": "stderr",
     "output_type": "stream",
     "text": [
      "2018-12-07 00:30:08,073 - 29119 - INFO - db - Setting up a MongoClient MongoClient(host=['localhost:27017'], document_class=dict, tz_aware=False, connect=True, authsource='admin')\n"
     ]
    }
   ],
   "source": [
    "db = MongoDB('water')"
   ]
  },
  {
   "cell_type": "code",
   "execution_count": 5,
   "metadata": {},
   "outputs": [
    {
     "name": "stderr",
     "output_type": "stream",
     "text": [
      "Using TensorFlow backend.\n"
     ]
    }
   ],
   "source": [
    "tsc = TimeSeriesClassifier(db=db)"
   ]
  },
  {
   "cell_type": "code",
   "execution_count": 6,
   "metadata": {},
   "outputs": [
    {
     "name": "stderr",
     "output_type": "stream",
     "text": [
      "2018-12-07 00:30:14,560 - 29119 - INFO - estimators - Scoring the default pipeline\n",
      "2018-12-07 00:30:33,464 - 29119 - INFO - estimators - Scoring pipeline 1\n",
      "2018-12-07 00:30:33,473 - 29119 - INFO - gp - Using Uniform sampler as user specified r_minimum threshold is not met to start the GP based learning\n",
      "2018-12-07 00:30:52,251 - 29119 - INFO - estimators - Pipeline 1 score: 0.4481684981684981\n",
      "2018-12-07 00:30:52,272 - 29119 - INFO - estimators - Scoring pipeline 2\n",
      "2018-12-07 00:31:34,568 - 29119 - INFO - estimators - Pipeline 2 score: 0.508974358974359\n"
     ]
    }
   ],
   "source": [
    "tsc.tune(X, y, data, 2)"
   ]
  },
  {
   "cell_type": "code",
   "execution_count": 7,
   "metadata": {},
   "outputs": [],
   "source": [
    "from sklearn.model_selection import train_test_split\n",
    "\n",
    "X_train, X_test, y_train, y_test = train_test_split(X, y, random_state=0)\n",
    "\n",
    "tsc.fit(X_train, y_train, data)"
   ]
  },
  {
   "cell_type": "code",
   "execution_count": 8,
   "metadata": {},
   "outputs": [],
   "source": [
    "y_pred = tsc.predict(X_test, data)"
   ]
  },
  {
   "cell_type": "code",
   "execution_count": 9,
   "metadata": {},
   "outputs": [
    {
     "data": {
      "text/plain": [
       "0.47058823529411764"
      ]
     },
     "execution_count": 9,
     "metadata": {},
     "output_type": "execute_result"
    }
   ],
   "source": [
    "from sklearn.metrics import accuracy_score\n",
    "\n",
    "accuracy_score(y_test, y_pred)"
   ]
  }
 ],
 "metadata": {
  "kernelspec": {
   "display_name": "Python 3",
   "language": "python",
   "name": "python3"
  },
  "language_info": {
   "codemirror_mode": {
    "name": "ipython",
    "version": 3
   },
   "file_extension": ".py",
   "mimetype": "text/x-python",
   "name": "python",
   "nbconvert_exporter": "python",
   "pygments_lexer": "ipython3",
   "version": "3.6.7"
  }
 },
 "nbformat": 4,
 "nbformat_minor": 2
}
